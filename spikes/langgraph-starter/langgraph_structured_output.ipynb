{
 "cells": [
  {
   "cell_type": "code",
   "execution_count": null,
   "id": "811f3fa0-d3a2-4c6f-b506-6bd07d6a3ed2",
   "metadata": {},
   "outputs": [],
   "source": [
    "from pydantic import BaseModel\n",
    "from langgraph.prebuilt import create_react_agent\n",
    "\n",
    "def get_weather(city: str) -> str:\n",
    "    \"\"\"Get weather for a given city\"\"\"\n",
    "    return f\"It's always sunny in {city}\"\n",
    "\n",
    "class WeatherResponse(BaseModel):\n",
    "    conditions: str\n",
    "\n",
    "agent = create_react_agent(\n",
    "    model = \"anthropic:claude-3-7-sonnet-latest\",\n",
    "    tools = [get_weather],\n",
    "    response_format=WeatherResponse\n",
    ")\n",
    "\n",
    "response = agent.invoke(\n",
    "    {\"messages\": [\n",
    "        {\"role\": \"user\", \"content\": \"what is the weather in bangalore\"}\n",
    "    ]}\n",
    ")\n",
    "\n",
    "print(response[\"structured_response\"])\n"
   ]
  },
  {
   "cell_type": "code",
   "execution_count": null,
   "id": "ac84e678-9ad7-4cd3-84d2-198f58e0deca",
   "metadata": {},
   "outputs": [],
   "source": []
  }
 ],
 "metadata": {
  "kernelspec": {
   "display_name": "Python 3 (ipykernel)",
   "language": "python",
   "name": "python3"
  },
  "language_info": {
   "codemirror_mode": {
    "name": "ipython",
    "version": 3
   },
   "file_extension": ".py",
   "mimetype": "text/x-python",
   "name": "python",
   "nbconvert_exporter": "python",
   "pygments_lexer": "ipython3",
   "version": "3.13.7"
  }
 },
 "nbformat": 4,
 "nbformat_minor": 5
}
