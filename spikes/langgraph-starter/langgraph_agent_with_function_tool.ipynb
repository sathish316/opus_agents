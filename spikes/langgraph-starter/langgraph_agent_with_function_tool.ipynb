{
 "cells": [
  {
   "cell_type": "code",
   "execution_count": null,
   "id": "28efe970-90a8-4b2d-9632-8530c9c59913",
   "metadata": {},
   "outputs": [],
   "source": [
    "from langgraph.prebuilt import create_react_agent\n",
    "\n",
    "def get_weather(city: str) -> str:\n",
    "    \"\"\"Get weather for a given city\"\"\"\n",
    "    return f\"It's always sunny in {city}\"\n",
    "\n",
    "agent = create_react_agent(\n",
    "    model = \"anthropic:claude-3-7-sonnet-latest\",\n",
    "    tools = [get_weather],\n",
    "    prompt = \"You are a helpful assistant\"\n",
    ")\n",
    "\n",
    "response = agent.invoke(\n",
    "    {\"messages\": [\n",
    "        {\"role\": \"user\", \"content\": \"what is the weather in bangalore\"}\n",
    "    ]}\n",
    ")"
   ]
  },
  {
   "cell_type": "code",
   "execution_count": null,
   "id": "6b2fd5fc-9012-41dd-a8b6-f0d61aa5c03c",
   "metadata": {},
   "outputs": [],
   "source": [
    "print(response)"
   ]
  }
 ],
 "metadata": {
  "kernelspec": {
   "display_name": "Python 3 (ipykernel)",
   "language": "python",
   "name": "python3"
  },
  "language_info": {
   "codemirror_mode": {
    "name": "ipython",
    "version": 3
   },
   "file_extension": ".py",
   "mimetype": "text/x-python",
   "name": "python",
   "nbconvert_exporter": "python",
   "pygments_lexer": "ipython3",
   "version": "3.13.7"
  }
 },
 "nbformat": 4,
 "nbformat_minor": 5
}
