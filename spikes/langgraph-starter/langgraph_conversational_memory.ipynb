{
 "cells": [
  {
   "cell_type": "code",
   "execution_count": null,
   "id": "621f17ae-80c3-4b7a-a5f4-cbd8bcf054b7",
   "metadata": {},
   "outputs": [],
   "source": [
    "from langgraph.prebuilt import create_react_agent\n",
    "from langgraph.checkpoint.memory import InMemorySaver\n",
    "\n",
    "def get_weather(city: str) -> str:\n",
    "    \"\"\"Get weather for a given city\"\"\"\n",
    "    return f\"It's always sunny in {city}\"\n",
    "\n",
    "checkpointer = InMemorySaver()\n",
    "\n",
    "agent = create_react_agent(\n",
    "    model = \"anthropic:claude-3-7-sonnet-latest\",\n",
    "    tools = [get_weather],\n",
    "    checkpointer = checkpointer\n",
    ")\n",
    "\n",
    "config = {\"configurable\": {\"thread_id\": \"1\"}}\n",
    "blr_response = agent.invoke(\n",
    "    {\"messages\": [\n",
    "        {\"role\": \"user\", \"content\": \"what is the weather in bangalore\"}\n",
    "    ]},\n",
    "    config\n",
    ")\n",
    "\n",
    "chennai_response = agent.invoke(\n",
    "    {\"messages\": [\n",
    "        {\"role\": \"user\", \"content\": \"what is the weather in chennai\"}\n",
    "    ]},\n",
    "    config\n",
    ")\n",
    "\n",
    "list_response = agent.invoke(\n",
    "    {\"messages\": [\n",
    "        {\"role\": \"user\", \"content\": \"what are the cities that i have asked about weather so far?\"}\n",
    "    ]},\n",
    "    config\n",
    ")"
   ]
  },
  {
   "cell_type": "code",
   "execution_count": null,
   "id": "221d7e65-126f-42d1-9147-006090748f64",
   "metadata": {},
   "outputs": [],
   "source": [
    "print(list_response)"
   ]
  },
  {
   "cell_type": "code",
   "execution_count": null,
   "id": "f540c2fe-500e-438f-8d75-e9a35ed43b8e",
   "metadata": {},
   "outputs": [],
   "source": []
  }
 ],
 "metadata": {
  "kernelspec": {
   "display_name": "Python 3 (ipykernel)",
   "language": "python",
   "name": "python3"
  },
  "language_info": {
   "codemirror_mode": {
    "name": "ipython",
    "version": 3
   },
   "file_extension": ".py",
   "mimetype": "text/x-python",
   "name": "python",
   "nbconvert_exporter": "python",
   "pygments_lexer": "ipython3",
   "version": "3.13.7"
  }
 },
 "nbformat": 4,
 "nbformat_minor": 5
}
