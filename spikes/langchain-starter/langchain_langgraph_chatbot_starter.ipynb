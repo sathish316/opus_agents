{
 "cells": [
  {
   "cell_type": "code",
   "execution_count": null,
   "id": "75988067-da2c-4eb4-8c7c-3a8900d0bfb6",
   "metadata": {},
   "outputs": [],
   "source": [
    "import getpass\n",
    "import os\n",
    "\n",
    "if not os.environ.get(\"OPENAI_API_KEY\"):\n",
    "    os.environ[\"OPENAIA_API_KEY\"] = getpass.getpass(\"Enter OpenAI API key:\")\n",
    "\n",
    "from langchain.chat_models import init_chat_model\n",
    "\n",
    "model = init_chat_model(\"gpt-4o-mini\", model_provider = \"openai\")"
   ]
  },
  {
   "cell_type": "code",
   "execution_count": null,
   "id": "20a76a45-aeb9-46a8-9f38-47169d617687",
   "metadata": {},
   "outputs": [],
   "source": [
    "from langchain_core.messages import HumanMessage\n",
    "\n",
    "model.invoke([HumanMessage(content=\"Hi, I'm Travis\")])"
   ]
  },
  {
   "cell_type": "code",
   "execution_count": null,
   "id": "0d2a177d-c823-4395-9472-195247c15518",
   "metadata": {},
   "outputs": [],
   "source": [
    "model.invoke([HumanMessage(content=\"What is my name?\")])"
   ]
  },
  {
   "cell_type": "code",
   "execution_count": null,
   "id": "74cc9b37-0d71-45ef-b963-b7f1133a5969",
   "metadata": {},
   "outputs": [],
   "source": [
    "from langchain_core.messages import AIMessage\n",
    "\n",
    "model.invoke(\n",
    "    [\n",
    "        HumanMessage(content=\"Hi, I'm Travis\"),\n",
    "        AIMessage(content=\"Hello Travis! How can i assist you today?\"),\n",
    "        HumanMessage(content=\"What is my name?\")\n",
    "    ]\n",
    ")"
   ]
  },
  {
   "cell_type": "code",
   "execution_count": null,
   "id": "dc0963fe-43b2-4ac6-b0d3-9635a85fd2fa",
   "metadata": {},
   "outputs": [],
   "source": [
    "from langgraph.checkpoint.memory import MemorySaver\n",
    "from langgraph.graph import START, MessagesState, StateGraph\n",
    "\n",
    "# define new graph\n",
    "workflow = StateGraph(state_schema=MessagesState)\n",
    "\n",
    "# define the function that calls the model\n",
    "def call_model(state: MessagesState):\n",
    "    response = model.invoke(state[\"messages\"])\n",
    "    return {\"messages\": response}\n",
    "\n",
    "# define nodes in graph\n",
    "workflow.add_edge(START, \"model\")\n",
    "workflow.add_node(\"model\", call_model)\n",
    "\n",
    "# add memory\n",
    "memory = MemorySaver()\n",
    "app = workflow.compile(checkpointer=memory)"
   ]
  },
  {
   "cell_type": "code",
   "execution_count": null,
   "id": "41ba2c7f-d15a-4ddc-aef2-5a83afe07f1b",
   "metadata": {},
   "outputs": [],
   "source": [
    "config = {\"configurable\": {\"thread_id\": \"abc123\"}}"
   ]
  },
  {
   "cell_type": "code",
   "execution_count": null,
   "id": "ec0491fe-d5b0-497c-b746-1287067119a1",
   "metadata": {},
   "outputs": [],
   "source": [
    "query = \"Hi, I'm Travis!\"\n",
    "\n",
    "input_messages = [HumanMessage(query)]\n",
    "output = app.invoke({\"messages\": input_messages}, config)\n",
    "output[\"messages\"][-1].pretty_print()"
   ]
  },
  {
   "cell_type": "code",
   "execution_count": null,
   "id": "bc6da18c-143e-4c18-bf8f-de6ede4d2e75",
   "metadata": {},
   "outputs": [],
   "source": [
    "query = \"What is my name?\"\n",
    "\n",
    "input_messages = [HumanMessage(query)]\n",
    "output = app.invoke({\"messages\": input_messages}, config)\n",
    "output[\"messages\"][-1].pretty_print()"
   ]
  },
  {
   "cell_type": "code",
   "execution_count": null,
   "id": "5daf53e9-eb97-43c6-87b0-ae50170a191e",
   "metadata": {},
   "outputs": [],
   "source": [
    "query = \"Hi, I'm Tyler!\"\n",
    "\n",
    "config = {\"configurable\": {\"thread_id\": \"abc124\"}}\n",
    "input_messages = [HumanMessage(query)]\n",
    "output = app.invoke({\"messages\": input_messages}, config)\n",
    "output[\"messages\"][-1].pretty_print()\n",
    "\n",
    "query = \"What is my name?\"\n",
    "\n",
    "config = {\"configurable\": {\"thread_id\": \"abc124\"}}\n",
    "input_messages = [HumanMessage(query)]\n",
    "output = app.invoke({\"messages\": input_messages}, config)\n",
    "output[\"messages\"][-1].pretty_print()\n",
    "\n",
    "query = \"What is my name?\"\n",
    "\n",
    "config = {\"configurable\": {\"thread_id\": \"abc123\"}}\n",
    "input_messages = [HumanMessage(query)]\n",
    "output = app.invoke({\"messages\": input_messages}, config)\n",
    "output[\"messages\"][-1].pretty_print()"
   ]
  },
  {
   "cell_type": "code",
   "execution_count": null,
   "id": "9a4f1c3c-00d1-45cb-87c9-07973a8d047c",
   "metadata": {},
   "outputs": [],
   "source": []
  },
  {
   "cell_type": "code",
   "execution_count": null,
   "id": "3c11f043-f6ed-4060-9cc9-f8f3a0b784d5",
   "metadata": {},
   "outputs": [],
   "source": []
  }
 ],
 "metadata": {
  "kernelspec": {
   "display_name": "Python 3 (ipykernel)",
   "language": "python",
   "name": "python3"
  },
  "language_info": {
   "codemirror_mode": {
    "name": "ipython",
    "version": 3
   },
   "file_extension": ".py",
   "mimetype": "text/x-python",
   "name": "python",
   "nbconvert_exporter": "python",
   "pygments_lexer": "ipython3",
   "version": "3.13.7"
  }
 },
 "nbformat": 4,
 "nbformat_minor": 5
}
