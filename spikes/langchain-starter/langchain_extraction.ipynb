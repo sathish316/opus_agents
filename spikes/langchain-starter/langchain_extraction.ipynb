{
 "cells": [
  {
   "cell_type": "code",
   "execution_count": null,
   "id": "a4d6ff09-5525-477e-a4c1-2c910cf1c468",
   "metadata": {},
   "outputs": [],
   "source": [
    "import getpass\n",
    "import os\n",
    "\n",
    "if not os.environ.get(\"OPENAI_API_KEY\"):\n",
    "    os.environ[\"OPENAIA_API_KEY\"] = getpass.getpass(\"Enter OpenAI API key:\")\n",
    "\n",
    "from langchain.chat_models import init_chat_model\n",
    "\n",
    "model = init_chat_model(\"gpt-4o-mini\", model_provider = \"openai\")"
   ]
  },
  {
   "cell_type": "code",
   "execution_count": null,
   "id": "92e30ed8-ba7c-4be5-b636-7921767348ca",
   "metadata": {},
   "outputs": [],
   "source": [
    "# define schema\n",
    "from typing import Optional\n",
    "from pydantic import BaseModel, Field\n",
    "\n",
    "class Person(BaseModel):\n",
    "    \"\"\"Information about a Person.\"\"\"\n",
    "\n",
    "    name: Optional[str] = Field(default=None, description=\"Name of the person\")\n",
    "    hair_color: Optional[str] = Field(default=None, description=\"Colour of the person's hair if known\")\n",
    "    height_in_meters: Optional[str] = Field(default=None, description=\"Height of the person measured in meters\")"
   ]
  },
  {
   "cell_type": "code",
   "execution_count": null,
   "id": "4ef1957e-ef42-479b-ba7d-24c134551231",
   "metadata": {},
   "outputs": [],
   "source": [
    "# define extractor\n",
    "from langchain_core.prompts import ChatPromptTemplate, MessagesPlaceholder\n",
    "\n",
    "prompt_template = ChatPromptTemplate.from_messages(\n",
    "    [\n",
    "        (\n",
    "            \"system\", \n",
    "            \"You are an expert extraction algorithm.\"\n",
    "            \"Only extract relevant information from the text.\"\n",
    "            \"If you do not know the value of an attribute asked to extract, return null for the attribute's value\"\n",
    "        ),\n",
    "        (\n",
    "            \"human\",\n",
    "            \"{text}\"\n",
    "        )\n",
    "    ]\n",
    ")\n",
    "\n",
    "structured_llm = model.with_structured_output(schema=Person)"
   ]
  },
  {
   "cell_type": "code",
   "execution_count": null,
   "id": "c144179d-9cd9-4523-ae0a-67f7d2de3ce4",
   "metadata": {},
   "outputs": [],
   "source": [
    "# extraction\n",
    "text = \"Alan Smith is 6 feet tall and has blond hair\"\n",
    "prompt = prompt_template.invoke({\"text\": text})\n",
    "structured_llm.invoke(prompt)"
   ]
  },
  {
   "cell_type": "code",
   "execution_count": null,
   "id": "15a795f8-4156-4edf-8d6d-e89b4a8ffecb",
   "metadata": {},
   "outputs": [],
   "source": [
    "# extracting multiple entities\n",
    "from typing import List\n",
    "\n",
    "class Data(BaseModel):\n",
    "    \"\"\"Extracted data about people\"\"\"\n",
    "    \n",
    "    people: List[Person]\n",
    "\n",
    "structured_llm = model.with_structured_output(schema=Data)\n",
    "text = \"My name is Jeff, my hair is black and i am 6 feet tall. Anna has the same color hair as me.\"\n",
    "prompt = prompt_template.invoke({\"text\": text})\n",
    "structured_llm.invoke(prompt)"
   ]
  },
  {
   "cell_type": "code",
   "execution_count": null,
   "id": "23a3e219-3f93-44ab-9b05-172d474234ce",
   "metadata": {},
   "outputs": [],
   "source": []
  }
 ],
 "metadata": {
  "kernelspec": {
   "display_name": "Python 3 (ipykernel)",
   "language": "python",
   "name": "python3"
  },
  "language_info": {
   "codemirror_mode": {
    "name": "ipython",
    "version": 3
   },
   "file_extension": ".py",
   "mimetype": "text/x-python",
   "name": "python",
   "nbconvert_exporter": "python",
   "pygments_lexer": "ipython3",
   "version": "3.13.7"
  }
 },
 "nbformat": 4,
 "nbformat_minor": 5
}
