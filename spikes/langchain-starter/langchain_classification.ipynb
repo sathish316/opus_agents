{
 "cells": [
  {
   "cell_type": "code",
   "execution_count": null,
   "id": "6940fe25-1a7f-4de7-965c-4db180098ddb",
   "metadata": {},
   "outputs": [],
   "source": [
    "import getpass\n",
    "import os\n",
    "\n",
    "if not os.environ.get(\"OPENAI_API_KEY\"):\n",
    "    os.environ[\"OPENAIA_API_KEY\"] = getpass.getpass(\"Enter OpenAI API key:\")\n",
    "\n",
    "from langchain.chat_models import init_chat_model\n",
    "\n",
    "model = init_chat_model(\"gpt-4o-mini\", model_provider = \"openai\")"
   ]
  },
  {
   "cell_type": "code",
   "execution_count": null,
   "id": "15ee6e25-a2b5-4719-b8db-847d32429bd6",
   "metadata": {},
   "outputs": [],
   "source": [
    "from langchain_core.prompts import ChatPromptTemplate\n",
    "from langchain_openai import ChatOpenAI\n",
    "from pydantic import BaseModel, Field\n",
    "\n",
    "# define prompt\n",
    "prompt_template = ChatPromptTemplate.from_template(\n",
    "    \"\"\"\n",
    "Extract desired information from the following passage.\n",
    "\n",
    "Only extract the properties mentioned in the 'Classification' function.\n",
    "\n",
    "Passage:\n",
    "{input}\n",
    "\"\"\"\n",
    ")\n",
    "\n",
    "# define schema for classification\n",
    "class Classification(BaseModel):\n",
    "    sentiment: str = Field(description=\"The sentiment of the text\")\n",
    "    aggressiveness: int = Field(description = \"How aggressive the text is on a scale of 1 to 10\")\n",
    "    language: str = Field(description=\"The language the text is written in\")\n",
    "\n",
    "# define structured llm\n",
    "structured_llm = model.with_structured_output(Classification)"
   ]
  },
  {
   "cell_type": "code",
   "execution_count": null,
   "id": "48c49aaa-d0b8-4d2d-94a9-5acec1495d94",
   "metadata": {},
   "outputs": [],
   "source": [
    "# predict or classify\n",
    "input = \"I'm incredibly happy to have met you! I think we'll be very good friends!\"\n",
    "prompt = prompt_template.invoke({\"input\": input})\n",
    "response = structured_llm.invoke(prompt)\n",
    "response"
   ]
  },
  {
   "cell_type": "code",
   "execution_count": null,
   "id": "7437aa3b-a3c6-48b6-b58c-157974ad71f1",
   "metadata": {},
   "outputs": [],
   "source": [
    "# predict or classify\n",
    "input = \"Estoy increiblemente contento de haberte conocido! Creo que seremos muy buenos amigos!\"\n",
    "prompt = prompt_template.invoke({\"input\": input})\n",
    "response = structured_llm.invoke(prompt)\n",
    "response"
   ]
  },
  {
   "cell_type": "code",
   "execution_count": null,
   "id": "6d3e3c43-8cb5-44cd-a716-cc7495f9f0a7",
   "metadata": {},
   "outputs": [],
   "source": [
    "# fine-grained schema for classification\n",
    "class Classification(BaseModel):\n",
    "    sentiment: str = Field(\n",
    "        description=\"The sentiment of the text\", \n",
    "        enum=[\"happy\", \"neutral\", \"sad\"]\n",
    "    )\n",
    "    aggressiveness: int = Field(\n",
    "        description = \"How aggressive the text is on a scale of 1 to 5, higher the number more aggressive\",\n",
    "        enum=[1,2,3,4,5]\n",
    "    )\n",
    "    language: str = Field(\n",
    "        description=\"The language the text is written in\",\n",
    "        enum = [\"spanish\", \"english\", \"french\", \"german\", \"italian\", \"others\"]\n",
    "    )\n",
    "        \n",
    "# define structured llm\n",
    "structured_llm = model.with_structured_output(Classification)"
   ]
  },
  {
   "cell_type": "code",
   "execution_count": null,
   "id": "97a9c4c4-88ca-49c2-9d27-f62f32ce64f0",
   "metadata": {},
   "outputs": [],
   "source": [
    "# predict or classify\n",
    "input = \"Estoy increiblemente contento de haberte conocido! Creo que seremos muy buenos amigos!\"\n",
    "prompt = prompt_template.invoke({\"input\": input})\n",
    "response = structured_llm.invoke(prompt)\n",
    "response"
   ]
  },
  {
   "cell_type": "code",
   "execution_count": null,
   "id": "d519c35d-3709-4af5-8299-5be8202f6b66",
   "metadata": {},
   "outputs": [],
   "source": []
  }
 ],
 "metadata": {
  "kernelspec": {
   "display_name": "Python 3 (ipykernel)",
   "language": "python",
   "name": "python3"
  },
  "language_info": {
   "codemirror_mode": {
    "name": "ipython",
    "version": 3
   },
   "file_extension": ".py",
   "mimetype": "text/x-python",
   "name": "python",
   "nbconvert_exporter": "python",
   "pygments_lexer": "ipython3",
   "version": "3.13.7"
  }
 },
 "nbformat": 4,
 "nbformat_minor": 5
}
