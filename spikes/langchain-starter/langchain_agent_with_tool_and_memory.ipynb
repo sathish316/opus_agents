{
 "cells": [
  {
   "cell_type": "code",
   "execution_count": null,
   "id": "cf0bd21c-23c9-4346-ab47-3a9191eb5054",
   "metadata": {},
   "outputs": [],
   "source": [
    "import os\n",
    "from langchain.chat_models import init_chat_model\n",
    "from langchain_tavily import TavilySearch\n",
    "from langgraph.checkpoint.memory import MemorySaver\n",
    "from langgraph.prebuilt import create_react_agent\n",
    "\n",
    "# create agent\n",
    "os.environ[\"TAVILY_API_KEY\"] = \"API_KEY_HERE\"\n",
    "memory = MemorySaver()\n",
    "model = init_chat_model(\"anthropic:claude-3-7-sonnet-latest\")\n",
    "search = TavilySearch(max_results=2)\n",
    "tools = [search]\n",
    "agent_executor = create_react_agent(model, tools, checkpointer=memory)"
   ]
  },
  {
   "cell_type": "code",
   "execution_count": null,
   "id": "97db23af-cb2e-4084-8afa-683e915c0e55",
   "metadata": {},
   "outputs": [],
   "source": [
    "config = {\"configurable\": {\"thread_id\": \"abc123\"}}\n",
    "\n",
    "input_message = {\n",
    "    \"role\": \"user\",\n",
    "    \"content\": \"Hi, I'm Travis and i live in Bangalore\"\n",
    "}\n",
    "\n",
    "for step in agent_executor.stream(\n",
    "    {\"messages\": [input_message]}, config, stream_mode=\"values\"\n",
    "):\n",
    "    step[\"messages\"][-1].pretty_print()"
   ]
  },
  {
   "cell_type": "code",
   "execution_count": null,
   "id": "8ffdd619-cab4-42c4-8d9e-ba03552e447f",
   "metadata": {},
   "outputs": [],
   "source": [
    "input_message = {\n",
    "    \"role\": \"user\",\n",
    "    \"content\": \"What is the weather where i live?\"\n",
    "}\n",
    "\n",
    "for step in agent_executor.stream(\n",
    "    {\"messages\": [input_message]}, config, stream_mode=\"values\"\n",
    "):\n",
    "    step[\"messages\"][-1].pretty_print()"
   ]
  },
  {
   "cell_type": "code",
   "execution_count": null,
   "id": "8834deb1-ad21-4804-8bea-1c5f13075d3d",
   "metadata": {},
   "outputs": [],
   "source": [
    "# invoke tool\n",
    "result = search.invoke(\"What is the weather in Bangalore?\")\n",
    "print(result)"
   ]
  },
  {
   "cell_type": "code",
   "execution_count": null,
   "id": "bbd93675-c5d6-40c0-b8ba-53b6c18b0978",
   "metadata": {},
   "outputs": [],
   "source": []
  }
 ],
 "metadata": {
  "kernelspec": {
   "display_name": "Python 3 (ipykernel)",
   "language": "python",
   "name": "python3"
  },
  "language_info": {
   "codemirror_mode": {
    "name": "ipython",
    "version": 3
   },
   "file_extension": ".py",
   "mimetype": "text/x-python",
   "name": "python",
   "nbconvert_exporter": "python",
   "pygments_lexer": "ipython3",
   "version": "3.13.7"
  }
 },
 "nbformat": 4,
 "nbformat_minor": 5
}
